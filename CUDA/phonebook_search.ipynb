{
  "nbformat": 4,
  "nbformat_minor": 0,
  "metadata": {
    "colab": {
      "provenance": [],
      "gpuType": "T4"
    },
    "kernelspec": {
      "name": "python3",
      "display_name": "Python 3"
    },
    "language_info": {
      "name": "python"
    },
    "accelerator": "GPU"
  },
  "cells": [
    {
      "cell_type": "code",
      "execution_count": null,
      "metadata": {
        "colab": {
          "base_uri": "https://localhost:8080/"
        },
        "id": "Nl3upXWUYUTx",
        "outputId": "ab1c4bdd-010f-48e9-e413-34b7eb5caf51"
      },
      "outputs": [
        {
          "output_type": "stream",
          "name": "stdout",
          "text": [
            "Overwriting search_phonebook.cu\n"
          ]
        }
      ],
      "source": [
        "%%writefile phonebook_search.cu\n",
        "#include <bits/stdc++.h>\n",
        "#include <cuda.h>\n",
        "\n",
        "using namespace std;\n",
        "\n",
        "struct Contact {\n",
        "  char id[50];\n",
        "  char name[50];\n",
        "  char number[50];\n",
        "};\n",
        "\n",
        "// /*\n",
        "__device__ bool check(char* str1, char* str2, int len) {\n",
        "  for(int i = 0; str1[i] != '\\0'; i++) {\n",
        "    int j = 0;\n",
        "    while(str1[i+j] != '\\0' && str2[j] != '\\0' && str1[i+j] == str2[j]) {\n",
        "      j++;\n",
        "    }\n",
        "    if(j == len-1) {\n",
        "      return true;\n",
        "    }\n",
        "  }\n",
        "  return false;\n",
        "}\n",
        "// */\n",
        "\n",
        "/*\n",
        "__device__ bool check(char* str1, char* str2, int len) {\n",
        "  int i = 0;\n",
        "  while (str1[i] != '\\0' && str2[i] != '\\0') {\n",
        "    if (str1[i] != str2[i]) {\n",
        "      return false;\n",
        "    }\n",
        "    i++;\n",
        "  }\n",
        "  // If both strings end together, they are exactly equal\n",
        "  return str1[i] == '\\0' && str2[i] == '\\0';\n",
        "}\n",
        "*/\n",
        "\n",
        "__global__ void searchPhonebook(Contact* phonebook, int num_contacts, char* search_name, int name_length) {\n",
        "  int idx = blockIdx.x * blockDim.x + threadIdx.x;\n",
        "  if(idx < num_contacts) {\n",
        "    if(check(phonebook[idx].number, search_name, name_length)) {\n",
        "      printf(\"%s %s %s\\n\", phonebook[idx].id, phonebook[idx].name, phonebook[idx].number);\n",
        "\n",
        "    }\n",
        "  }\n",
        "}\n",
        "\n",
        "int main(int argc, char* argv[]) {\n",
        "  if(argc != 5) {\n",
        "    cerr << \"Usage: \" << argv[0] << \" <search_name> <num_threads>\" << endl;\n",
        "    return 1;\n",
        "  }\n",
        "\n",
        "  // string search_name = argv[1];\n",
        "  // Build the string\n",
        "  string search_name = string(argv[1]) + \" \" + argv[2] + \" \" + argv[3];\n",
        "\n",
        "  int num_threads = atoi(argv[4]);\n",
        "  // Mount Google Drive and copy the location\n",
        "  string file_name = \"/content/drive/MyDrive/dataset/labtest_dataset2.txt\";\n",
        "\n",
        "  vector<Contact> phonebook;\n",
        "\n",
        "  ifstream file(file_name);\n",
        "  if(!file.is_open()) {\n",
        "    cerr << \"Error opening file: \" << file_name << endl;\n",
        "    return 1;\n",
        "  }\n",
        "  else {\n",
        "    Contact contact;\n",
        "    string line;\n",
        "    while(getline(file, line)) {\n",
        "       //Format: \"id\",\"name\".\"phone_number\"\n",
        "      int pos = line.find(\",\");\n",
        "      strcpy(contact.id, line.substr(1, pos-2).c_str());\n",
        "      line = line.substr(pos+1);\n",
        "      pos = line.find(\",\");\n",
        "      strcpy(contact.name, line.substr(1, pos-2).c_str());\n",
        "      strcpy(contact.number, line.substr(pos+2, line.size()-pos-4).c_str());\n",
        "      phonebook.push_back(contact);\n",
        "\n",
        "\n",
        "      /*\n",
        "      // Format: \"name\".\"phone_number\"\n",
        "      int pos = line.find(\",\");\n",
        "      // Extract name (without the quotes)\n",
        "      strcpy(contact.name, line.substr(1, pos - 2).c_str());\n",
        "\n",
        "      // Extract number (also without quotes)\n",
        "      strcpy(contact.number, line.substr(pos + 2, line.size() - pos - 4).c_str());\n",
        "\n",
        "      phonebook.push_back(contact);\n",
        "      */\n",
        "    }\n",
        "    file.close();\n",
        "  }\n",
        "  int num_contacts = phonebook.size();\n",
        "  Contact* device_phonebook;\n",
        "  cudaMalloc((void**)&device_phonebook, sizeof(Contact)*num_contacts);\n",
        "  cudaMemcpy(device_phonebook, phonebook.data(), sizeof(Contact)*num_contacts, cudaMemcpyHostToDevice);\n",
        "\n",
        "  int name_length = search_name.length() + 1;\n",
        "  char* device_search_name;\n",
        "  cudaMalloc((void**)&device_search_name, name_length);\n",
        "  cudaMemcpy(device_search_name, search_name.c_str(), name_length, cudaMemcpyHostToDevice);\n",
        "\n",
        "  for(int i = 0; i < num_contacts; i += num_threads) {\n",
        "    int thread_count = min(num_contacts-i, num_threads);\n",
        "    searchPhonebook<<<1, thread_count>>>(device_phonebook + i, thread_count, device_search_name, name_length);\n",
        "    cudaDeviceSynchronize();\n",
        "  }\n",
        "\n",
        "  cudaFree(device_phonebook);\n",
        "  cudaFree(device_search_name);\n",
        "\n",
        "  return 0;\n",
        "}"
      ]
    },
    {
      "cell_type": "code",
      "source": [
        "!nvcc -arch=sm_75 phonebook_search.cu -o ps"
      ],
      "metadata": {
        "id": "WRNcJgCQYnSr"
      },
      "execution_count": null,
      "outputs": []
    },
    {
      "cell_type": "code",
      "source": [
        "!time ./ps 012 06 38 100 > output1.txt"
      ],
      "metadata": {
        "colab": {
          "base_uri": "https://localhost:8080/"
        },
        "id": "mKVzXBIoZTL1",
        "outputId": "5f643cc9-ec4e-4fde-9305-bc7a36776098"
      },
      "execution_count": null,
      "outputs": [
        {
          "output_type": "stream",
          "name": "stdout",
          "text": [
            "\n",
            "real\t0m14.726s\n",
            "user\t0m10.197s\n",
            "sys\t0m4.201s\n"
          ]
        }
      ]
    },
    {
      "cell_type": "code",
      "source": [
        "from google.colab import drive\n",
        "drive.mount('/content/drive')"
      ],
      "metadata": {
        "colab": {
          "base_uri": "https://localhost:8080/"
        },
        "id": "QRtGfzlszpLY",
        "outputId": "f5bff904-499b-43db-80c4-6eaa21c80f46"
      },
      "execution_count": null,
      "outputs": [
        {
          "output_type": "stream",
          "name": "stdout",
          "text": [
            "Drive already mounted at /content/drive; to attempt to forcibly remount, call drive.mount(\"/content/drive\", force_remount=True).\n"
          ]
        }
      ]
    }
  ]
}